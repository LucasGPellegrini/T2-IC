{
 "cells": [
  {
   "cell_type": "markdown",
   "id": "56e95f5b-7407-4143-9321-9edbfe9958fe",
   "metadata": {},
   "source": [
    "# Trabalho de Algoritmos Genéticos"
   ]
  },
  {
   "cell_type": "markdown",
   "id": "6d2a52c3-8e3b-4c3d-a2a6-e2ade35e4b3b",
   "metadata": {},
   "source": [
    "## Problema Do Empacotamento (BPP do inglês *\"Bin Packing Problem\"*)"
   ]
  },
  {
   "cell_type": "markdown",
   "id": "3cd20ae4-6629-4e36-a9d5-1951670d6b37",
   "metadata": {},
   "source": [
    "Dada uma quantidade inteira e positiva de pacotes/depósitos de capacidade $C$ e um set de $M$ itens  $I = [I_1, \\cdots, I_M]$ de tamanhos $S = [S_1,\\cdots,S_M]$, o problema consiste em empacotar todos os itens nos pacotes, de modo a não exceder a capacidade $C$, **minimizando** a quantidade $N$ de pacotes utilizados."
   ]
  },
  {
   "cell_type": "markdown",
   "id": "67c5edbf-39d2-41f0-981a-83a1b72e67b3",
   "metadata": {},
   "source": [
    "## Imports"
   ]
  },
  {
   "cell_type": "code",
   "execution_count": 1,
   "id": "18e71645-71bc-4c6e-9501-2a5f1ec9b6ff",
   "metadata": {},
   "outputs": [],
   "source": [
    "import numpy as np\n",
    "import pandas as pd\n",
    "import random\n",
    "from itertools import combinations\n",
    "import copy"
   ]
  },
  {
   "cell_type": "markdown",
   "id": "ad8fe862-c262-4723-bfe0-759a1262f0fa",
   "metadata": {},
   "source": [
    "## Modelando o Problema"
   ]
  },
  {
   "cell_type": "markdown",
   "id": "62c81777-0018-4930-87d3-21a92c7bed25",
   "metadata": {},
   "source": [
    "- Gene: É um pacote.\n",
    "    - É representado por um set de inteiros referentes à cada cada item;\n",
    "- Indivíduo: É um conjunto de pacotes, que somam um total de $M$ elementos, cujos respectivos pesos não infringem a capacidade $C$."
   ]
  },
  {
   "cell_type": "markdown",
   "id": "0a3a3795-c579-46de-a42c-d61f7540eebf",
   "metadata": {},
   "source": [
    "### *Fitness*"
   ]
  },
  {
   "cell_type": "code",
   "execution_count": 2,
   "id": "f6d7f864-8bc3-46f4-802c-a5ca81be3d88",
   "metadata": {},
   "outputs": [],
   "source": [
    "def fitness(individuo):\n",
    "    return len(individuo)"
   ]
  },
  {
   "cell_type": "markdown",
   "id": "b7441627-1d75-4ac4-bc90-5292f2c0155c",
   "metadata": {},
   "source": [
    "### Heurísticas"
   ]
  },
  {
   "cell_type": "code",
   "execution_count": 3,
   "id": "468303d7-d328-476b-9322-c00c8ef336ed",
   "metadata": {},
   "outputs": [],
   "source": [
    "def FF(individuo, item, C, S):\n",
    "\n",
    "    if individuo == []:\n",
    "        individuo.append([item])\n",
    "        return\n",
    "\n",
    "    added = False\n",
    "    for pacote in individuo:\n",
    "        if sum([x for i, x in enumerate(S) if i in pacote]) + S[item] <= C:\n",
    "            pacote.append(item)\n",
    "            pacote.sort()\n",
    "            added = True\n",
    "            break\n",
    "\n",
    "    if not added:\n",
    "        individuo.append([item])\n",
    "            \n",
    "\n",
    "def FFD(individuo, itens, C, S):\n",
    "    ordenados = [x[0] for x in sorted(\n",
    "        [(itens[i], S[i]) for i in range(0, len(itens))], \n",
    "        key = lambda x: x[1],\n",
    "        reverse=True)]\n",
    "    \n",
    "    for item in ordenados:\n",
    "        FF(individuo, item, C, S)\n",
    "\n",
    "\n",
    "def MBS(individuo, item, C, S):\n",
    "\n",
    "    if individuo == []:\n",
    "        individuo.append([item])\n",
    "        return\n",
    "\n",
    "    added = False\n",
    "    melhor_diferenca = C\n",
    "    indice_melhor = 0\n",
    "    for I, pacote in enumerate(individuo):\n",
    "        diferenca = C - (sum([x for i, x in enumerate(S) if i in pacote]) + S[item])\n",
    "        if diferenca < melhor_diferenca and diferenca >= 0:\n",
    "            melhor_diferenca = diferenca\n",
    "            indice_melhor = I\n",
    "            added = True\n",
    "\n",
    "    if added:\n",
    "        individuo[indice_melhor] += (item)\n",
    "        individuo[indice_melhor].sort()\n",
    "    else:\n",
    "        individuo.append([item])\n",
    "\n",
    "def FleszarMBS(individuo, itens, C, S):\n",
    "    ordenados = [x[0] for x in sorted(\n",
    "        [(itens[i], S[i]) for i in range(0, len(itens))], \n",
    "        key = lambda x: x[1],\n",
    "        reverse=True)]\n",
    "    for it in ordenados:\n",
    "        MBS(individuo, it, C, S)"
   ]
  },
  {
   "cell_type": "markdown",
   "id": "4a680601-89a2-436b-94e5-38a0f6565452",
   "metadata": {},
   "source": [
    "### Funções Auxiliares"
   ]
  },
  {
   "cell_type": "code",
   "execution_count": 4,
   "id": "87743fd3-e37d-44a3-a92a-7d9b0f833ba1",
   "metadata": {},
   "outputs": [],
   "source": [
    "def tamanho(individuo, S):\n",
    "    tam = 0\n",
    "    for pacote in individuo:\n",
    "        tam += sum([x for i, x in enumerate(S) if i in pacote])\n",
    "    return tam\n",
    "\n",
    "def P2F(individuo, Tx, C, S, Tb=True):\n",
    "    if Tb:\n",
    "        for pacote in Tx:\n",
    "            tam_pacote_tx = sum([x for i, x in enumerate(S) if i in pacote])\n",
    "            for pct in individuo:\n",
    "                tam_pct_indiv = sum([x for i, x in enumerate(S) if i in pct])\n",
    "                if tam_pct_indiv + tam_pacote_tx <= C:\n",
    "                    pct += pacote\n",
    "                    pct.sort()\n",
    "                    Tx.remove(pacote)\n",
    "                    break\n",
    "\n",
    "        if Tx:\n",
    "            ordenados = [x[0] for x in sorted(\n",
    "                [(i, sum(\n",
    "                    [k for j,k in enumerate(S) if  j in i])\n",
    "                 ) for i in Tx], key = lambda x: x[1], reverse = True)]\n",
    "\n",
    "            item = ordenados.pop(0)\n",
    "            individuo += [item]\n",
    "            Tx.remove(item)\n",
    "            added = False\n",
    "            while ordenados:\n",
    "                melhor_diferenca = C\n",
    "                indice_melhor = 0\n",
    "                for I, pacote in enumerate(individuo):\n",
    "                    diferenca = C - (sum([x for i, x in enumerate(S) if i in pacote]) + sum([y for j, y in enumerate(S) if j in ordenados[0]]))\n",
    "                    if diferenca < melhor_diferenca and diferenca >= 0:\n",
    "                        melhor_diferenca = diferenca\n",
    "                        indice_melhor = I\n",
    "                        added = True\n",
    "                if added:\n",
    "                    individuo[indice_melhor] += ordenados.pop(0)\n",
    "                    individuo[indice_melhor].sort()\n",
    "                else:\n",
    "                    individuo.append(ordenados.pop(0))\n",
    "\n",
    "    else:\n",
    "        for item in Tx:\n",
    "            FF(individuo, item, C, S)\n",
    "            Tx.remove(item)\n",
    "\n",
    "    return individuo\n",
    "\n",
    "def substituicao(filho, Ta, Tb, C, S):\n",
    "    Tc = [list(x) for x in combinations(Ta, 2)]\n",
    "\n",
    "    tam_original = tamanho(filho, S)\n",
    "    lista_candidatos = []\n",
    "\n",
    "    for indice, pacote in enumerate(filho):\n",
    "        Sn = []\n",
    "        Sn += [list(x) for x in combinations(pacote, 1)]\n",
    "        Sn += [list(x) for x in combinations(pacote, 2)]\n",
    "        Sn += [list(x) for x in combinations(pacote, 3)]\n",
    "\n",
    "        for comb in Sn:\n",
    "            tamanho_comb = sum([x for i, x in enumerate(S) if i in comb])\n",
    "            new_filho = copy.deepcopy(filho)\n",
    "\n",
    "            # remove comb do filho\n",
    "            new_filho[indice] = [x for x in new_filho[indice] if x not in [comb]]\n",
    "\n",
    "            # tenta substituir com algum item de Ta\n",
    "            for pacote in Ta:\n",
    "                tamanho_pacote = S[pacote]\n",
    "                if tamanho_comb + tamanho_pacote <= C:\n",
    "                    new_Ta = copy.deepcopy(Ta)\n",
    "                    ta_filho = copy.deepcopy(new_filho)\n",
    "                    ta_filho[indice].append(pacote)\n",
    "                    tam_ta = tamanho(ta_filho, S)\n",
    "    \n",
    "                    if tam_ta > tam_original:\n",
    "                        new_Ta.remove(pacote)\n",
    "                        candidato = tuple((tam_ta, new_Ta, Tb, ta_filho))\n",
    "                        if candidato not in lista_candidatos:\n",
    "                            lista_candidatos.append(candidato)\n",
    "\n",
    "            # tenta substituir com algum item de Tb\n",
    "            for pacote in Tb:\n",
    "                tamanho_pacote = sum([x for i, x in enumerate(S) if i in pacote])\n",
    "                if tamanho_comb + tamanho_pacote <= C:\n",
    "                    new_Tb = copy.deepcopy(Tb)\n",
    "                    tb_filho = copy.deepcopy(new_filho)\n",
    "                    tb_filho[indice] += pacote\n",
    "                    tam_tb = tamanho(tb_filho, S)\n",
    "    \n",
    "                    if tam_tb > tam_original:\n",
    "                        new_Tb.remove(pacote)\n",
    "                        candidato = tuple((tam_tb, Ta, new_Tb, tb_filho))\n",
    "                        if candidato not in lista_candidatos:\n",
    "                            lista_candidatos.append(candidato)\n",
    "                    \n",
    "            # tenta substituir com algum item de Tc\n",
    "            for pacote in Tc:\n",
    "                tamanho_pacote = sum([x for i, x in enumerate(S) if i in pacote])\n",
    "                if tamanho_comb + tamanho_pacote <= C:\n",
    "                    new_Ta = copy.deepcopy(Ta)\n",
    "                    tc_filho = copy.deepcopy(new_filho)\n",
    "                    tc_filho[indice] += pacote\n",
    "                    tam_tc = tamanho(tc_filho, S)\n",
    "    \n",
    "                    if tam_tc > tam_original:\n",
    "                        for it in pacote:\n",
    "                            new_Ta.remove(it)\n",
    "                        candidato = tuple((tam_tc, new_Ta, Tb, tc_filho))\n",
    "                        if candidato not in lista_candidatos:\n",
    "                            lista_candidatos.append(candidato)\n",
    "\n",
    "\n",
    "    tam, nTa, nTb, melhor_candidato = max(lista_candidatos, key = lambda x: x[0]) if lista_candidatos else tuple((tam_original, Ta, Tb, filho))\n",
    "\n",
    "    P2F(melhor_candidato, nTb, C, S)\n",
    "    \n",
    "    return P2F(melhor_candidato, nTa, C, S, Tb=False)"
   ]
  },
  {
   "cell_type": "markdown",
   "id": "5317707f-78e3-47d5-8214-16eda59c096a",
   "metadata": {},
   "source": [
    "### Cruzamento ou *crossover*"
   ]
  },
  {
   "cell_type": "code",
   "execution_count": 5,
   "id": "8b2615c9-e3f3-4bf4-95e7-c523abed15bc",
   "metadata": {},
   "outputs": [],
   "source": [
    "def cruzamento(pai1, pai2, C, S):\n",
    "    return fcruzamento(pai1, pai2, C, S), fcruzamento(pai2, pai1, C, S)\n",
    "\n",
    "def fcruzamento(pai1, pai2, C, S):\n",
    "    idx1 = np.random.randint(len(pai1) ,size=2)\n",
    "    idx2 = np.random.randint(len(pai2) ,size=1)\n",
    "\n",
    "    filho = []\n",
    "    for idx in idx1:\n",
    "        novo_pct = copy.deepcopy(pai1[idx])\n",
    "        for item in pai1[idx]:\n",
    "            if any(item in pct_filho for pct_filho in filho):\n",
    "                novo_pct.remove(item)\n",
    "        filho += [novo_pct]\n",
    "    for idx in idx2:\n",
    "        novo_pct = copy.deepcopy(pai2[idx])\n",
    "        for item in pai2[idx]:\n",
    "            if any(item in pct_filho for pct_filho in filho):\n",
    "                novo_pct.remove(item)\n",
    "        filho += [novo_pct]\n",
    "                \n",
    "            \n",
    "    \n",
    "    Ta = []\n",
    "    Tb = []\n",
    "\n",
    "    # pacotes remanescentes em pai2\n",
    "    for pacote in [pct for indice, pct in enumerate(pai2) if indice not in idx2]:\n",
    "        novo_pacote = []\n",
    "        for item in pacote:\n",
    "            if not any(item in o_pct for o_pct in filho):\n",
    "                novo_pacote.append(item)\n",
    "\n",
    "        if len(novo_pacote) > 1:\n",
    "            Tb.append(novo_pacote)\n",
    "        elif len(novo_pacote) == 1:\n",
    "            Ta.append(novo_pacote[0])\n",
    "\n",
    "    return substituicao(filho, Ta, Tb, C, S)"
   ]
  },
  {
   "cell_type": "markdown",
   "id": "9712867e-1c8f-46e0-a0d0-c920eb7a9be3",
   "metadata": {},
   "source": [
    "### Mutação"
   ]
  },
  {
   "cell_type": "code",
   "execution_count": 6,
   "id": "676b8a8d-9cec-4771-a780-20d408214dac",
   "metadata": {},
   "outputs": [],
   "source": [
    "def mutacao(pai, C, S):\n",
    "    idx = np.random.randint(len(pai), size=np.random.choice([2,3]))\n",
    "\n",
    "    T = []\n",
    "    for indice in idx:\n",
    "        for item in pai[indice]:\n",
    "            T.append(item)\n",
    "    T.sort()\n",
    "\n",
    "    filho = []\n",
    "    for pacote in [x for i, x in enumerate(pai) if i not in idx]:\n",
    "        filho += [pacote]\n",
    "\n",
    "    return substituicao(filho, T, [], C, S)"
   ]
  },
  {
   "cell_type": "markdown",
   "id": "16199ebd-331e-4d58-a13e-b3caaa628f15",
   "metadata": {},
   "source": [
    "## Execução"
   ]
  },
  {
   "cell_type": "code",
   "execution_count": 7,
   "id": "1408580d-2238-442b-ab46-0cb40fd39cc8",
   "metadata": {},
   "outputs": [],
   "source": [
    "def main(T=10, G=1000, \n",
    "         M=[0,1,2,3,4,5,6,7,8,9,10,11,12,13,14,15], \n",
    "         C=40, \n",
    "         S=[1,1,2,3,4,5,6,7,8,9,10,11,12,13,14,15]):\n",
    "    \n",
    "    populacao = []\n",
    "    \n",
    "    for _ in range(T):\n",
    "        individuo = []\n",
    "        itens = M[:]\n",
    "        np.random.shuffle(itens)\n",
    "        for item in itens:\n",
    "            FF(individuo, item, C, S)\n",
    "        populacao += [individuo]\n",
    "\n",
    "\n",
    "    for i in range(0, G):\n",
    "        idx_random = random.sample(range(len(populacao)), 2)\n",
    "        xs = []\n",
    "\n",
    "        xs.extend([populacao[idx_random[0]], populacao[idx_random[1]]])\n",
    "        x3, x4 = cruzamento(xs[0], xs[1], C, S)\n",
    "        xs.extend([x3, x4])\n",
    "        xs.extend([mutacao(xs[0], C, S), mutacao(xs[1], C, S)])\n",
    "    \n",
    "        idx_melhor_solucao = 0\n",
    "        melhores_solucoes = []\n",
    "    \n",
    "        while len(melhores_solucoes) < 2:\n",
    "            for i, elem in enumerate(xs):\n",
    "                if fitness(elem) < fitness(xs[idx_melhor_solucao]):\n",
    "                    melhor_solucao = i\n",
    "    \n",
    "            melhores_solucoes.append(xs[idx_melhor_solucao])\n",
    "            xs.pop(i)\n",
    "        \n",
    "        populacao.remove(xs[0])\n",
    "        populacao.remove(xs[1])\n",
    "        populacao.extend(melhores_solucoes)\n",
    "\n",
    "\n",
    "    return populacao, sorted([fitness(x) for x in populacao])[0]"
   ]
  },
  {
   "cell_type": "markdown",
   "id": "1dacd07e-9b8c-474a-baf2-715ec2b7a79e",
   "metadata": {},
   "source": [
    "## Benchmark"
   ]
  },
  {
   "cell_type": "code",
   "execution_count": 8,
   "id": "25679949-546d-48c5-888e-84faa6f3603a",
   "metadata": {},
   "outputs": [
    {
     "name": "stdout",
     "output_type": "stream",
     "text": [
      "melhor:51 - otimo:48\n",
      "melhor:51 - otimo:49\n",
      "melhor:48 - otimo:46\n",
      "melhor:52 - otimo:49\n"
     ]
    },
    {
     "ename": "KeyboardInterrupt",
     "evalue": "",
     "output_type": "error",
     "traceback": [
      "\u001b[0;31m---------------------------------------------------------------------------\u001b[0m",
      "\u001b[0;31mKeyboardInterrupt\u001b[0m                         Traceback (most recent call last)",
      "Cell \u001b[0;32mIn[8], line 18\u001b[0m\n\u001b[1;32m     15\u001b[0m individuo \u001b[38;5;241m=\u001b[39m \u001b[38;5;28mlist\u001b[39m(\u001b[38;5;28mrange\u001b[39m(\u001b[38;5;241m0\u001b[39m, M))\n\u001b[1;32m     17\u001b[0m \u001b[38;5;66;03m# Execução\u001b[39;00m\n\u001b[0;32m---> 18\u001b[0m _, melhor \u001b[38;5;241m=\u001b[39m \u001b[43mmain\u001b[49m\u001b[43m(\u001b[49m\u001b[43mT\u001b[49m\u001b[38;5;241;43m=\u001b[39;49m\u001b[38;5;241;43m5\u001b[39;49m\u001b[43m,\u001b[49m\u001b[43m \u001b[49m\u001b[43mG\u001b[49m\u001b[38;5;241;43m=\u001b[39;49m\u001b[38;5;241;43m10\u001b[39;49m\u001b[43m,\u001b[49m\u001b[43m \u001b[49m\u001b[43mM\u001b[49m\u001b[38;5;241;43m=\u001b[39;49m\u001b[43mindividuo\u001b[49m\u001b[43m,\u001b[49m\u001b[43m \u001b[49m\u001b[43mC\u001b[49m\u001b[38;5;241;43m=\u001b[39;49m\u001b[43mC\u001b[49m\u001b[43m,\u001b[49m\u001b[43m \u001b[49m\u001b[43mS\u001b[49m\u001b[38;5;241;43m=\u001b[39;49m\u001b[43mS\u001b[49m\u001b[43m)\u001b[49m\n\u001b[1;32m     19\u001b[0m \u001b[38;5;28mprint\u001b[39m(\u001b[38;5;124mf\u001b[39m\u001b[38;5;124m'\u001b[39m\u001b[38;5;124mmelhor:\u001b[39m\u001b[38;5;132;01m{\u001b[39;00mmelhor\u001b[38;5;132;01m}\u001b[39;00m\u001b[38;5;124m - otimo:\u001b[39m\u001b[38;5;132;01m{\u001b[39;00motimo\u001b[38;5;132;01m}\u001b[39;00m\u001b[38;5;124m'\u001b[39m)\n",
      "Cell \u001b[0;32mIn[7], line 24\u001b[0m, in \u001b[0;36mmain\u001b[0;34m(T, G, M, C, S)\u001b[0m\n\u001b[1;32m     22\u001b[0m x3, x4 \u001b[38;5;241m=\u001b[39m cruzamento(xs[\u001b[38;5;241m0\u001b[39m], xs[\u001b[38;5;241m1\u001b[39m], C, S)\n\u001b[1;32m     23\u001b[0m xs\u001b[38;5;241m.\u001b[39mextend([x3, x4])\n\u001b[0;32m---> 24\u001b[0m xs\u001b[38;5;241m.\u001b[39mextend([\u001b[43mmutacao\u001b[49m\u001b[43m(\u001b[49m\u001b[43mxs\u001b[49m\u001b[43m[\u001b[49m\u001b[38;5;241;43m0\u001b[39;49m\u001b[43m]\u001b[49m\u001b[43m,\u001b[49m\u001b[43m \u001b[49m\u001b[43mC\u001b[49m\u001b[43m,\u001b[49m\u001b[43m \u001b[49m\u001b[43mS\u001b[49m\u001b[43m)\u001b[49m, mutacao(xs[\u001b[38;5;241m1\u001b[39m], C, S)])\n\u001b[1;32m     26\u001b[0m idx_melhor_solucao \u001b[38;5;241m=\u001b[39m \u001b[38;5;241m0\u001b[39m\n\u001b[1;32m     27\u001b[0m melhores_solucoes \u001b[38;5;241m=\u001b[39m []\n",
      "Cell \u001b[0;32mIn[6], line 14\u001b[0m, in \u001b[0;36mmutacao\u001b[0;34m(pai, C, S)\u001b[0m\n\u001b[1;32m     11\u001b[0m \u001b[38;5;28;01mfor\u001b[39;00m pacote \u001b[38;5;129;01min\u001b[39;00m [x \u001b[38;5;28;01mfor\u001b[39;00m i, x \u001b[38;5;129;01min\u001b[39;00m \u001b[38;5;28menumerate\u001b[39m(pai) \u001b[38;5;28;01mif\u001b[39;00m i \u001b[38;5;129;01mnot\u001b[39;00m \u001b[38;5;129;01min\u001b[39;00m idx]:\n\u001b[1;32m     12\u001b[0m     filho \u001b[38;5;241m+\u001b[39m\u001b[38;5;241m=\u001b[39m [pacote]\n\u001b[0;32m---> 14\u001b[0m \u001b[38;5;28;01mreturn\u001b[39;00m \u001b[43msubstituicao\u001b[49m\u001b[43m(\u001b[49m\u001b[43mfilho\u001b[49m\u001b[43m,\u001b[49m\u001b[43m \u001b[49m\u001b[43mT\u001b[49m\u001b[43m,\u001b[49m\u001b[43m \u001b[49m\u001b[43m[\u001b[49m\u001b[43m]\u001b[49m\u001b[43m,\u001b[49m\u001b[43m \u001b[49m\u001b[43mC\u001b[49m\u001b[43m,\u001b[49m\u001b[43m \u001b[49m\u001b[43mS\u001b[49m\u001b[43m)\u001b[49m\n",
      "Cell \u001b[0;32mIn[4], line 77\u001b[0m, in \u001b[0;36msubstituicao\u001b[0;34m(filho, Ta, Tb, C, S)\u001b[0m\n\u001b[1;32m     75\u001b[0m ta_filho \u001b[38;5;241m=\u001b[39m copy\u001b[38;5;241m.\u001b[39mdeepcopy(new_filho)\n\u001b[1;32m     76\u001b[0m ta_filho[indice]\u001b[38;5;241m.\u001b[39mappend(pacote)\n\u001b[0;32m---> 77\u001b[0m tam_ta \u001b[38;5;241m=\u001b[39m \u001b[43mtamanho\u001b[49m\u001b[43m(\u001b[49m\u001b[43mta_filho\u001b[49m\u001b[43m,\u001b[49m\u001b[43m \u001b[49m\u001b[43mS\u001b[49m\u001b[43m)\u001b[49m\n\u001b[1;32m     79\u001b[0m \u001b[38;5;28;01mif\u001b[39;00m tam_ta \u001b[38;5;241m>\u001b[39m tam_original:\n\u001b[1;32m     80\u001b[0m     new_Ta\u001b[38;5;241m.\u001b[39mremove(pacote)\n",
      "Cell \u001b[0;32mIn[4], line 4\u001b[0m, in \u001b[0;36mtamanho\u001b[0;34m(individuo, S)\u001b[0m\n\u001b[1;32m      2\u001b[0m tam \u001b[38;5;241m=\u001b[39m \u001b[38;5;241m0\u001b[39m\n\u001b[1;32m      3\u001b[0m \u001b[38;5;28;01mfor\u001b[39;00m pacote \u001b[38;5;129;01min\u001b[39;00m individuo:\n\u001b[0;32m----> 4\u001b[0m     tam \u001b[38;5;241m+\u001b[39m\u001b[38;5;241m=\u001b[39m \u001b[38;5;28msum\u001b[39m(\u001b[43m[\u001b[49m\u001b[43mx\u001b[49m\u001b[43m \u001b[49m\u001b[38;5;28;43;01mfor\u001b[39;49;00m\u001b[43m \u001b[49m\u001b[43mi\u001b[49m\u001b[43m,\u001b[49m\u001b[43m \u001b[49m\u001b[43mx\u001b[49m\u001b[43m \u001b[49m\u001b[38;5;129;43;01min\u001b[39;49;00m\u001b[43m \u001b[49m\u001b[38;5;28;43menumerate\u001b[39;49m\u001b[43m(\u001b[49m\u001b[43mS\u001b[49m\u001b[43m)\u001b[49m\u001b[43m \u001b[49m\u001b[38;5;28;43;01mif\u001b[39;49;00m\u001b[43m \u001b[49m\u001b[43mi\u001b[49m\u001b[43m \u001b[49m\u001b[38;5;129;43;01min\u001b[39;49;00m\u001b[43m \u001b[49m\u001b[43mpacote\u001b[49m\u001b[43m]\u001b[49m)\n\u001b[1;32m      5\u001b[0m \u001b[38;5;28;01mreturn\u001b[39;00m tam\n",
      "Cell \u001b[0;32mIn[4], line 4\u001b[0m, in \u001b[0;36m<listcomp>\u001b[0;34m(.0)\u001b[0m\n\u001b[1;32m      2\u001b[0m tam \u001b[38;5;241m=\u001b[39m \u001b[38;5;241m0\u001b[39m\n\u001b[1;32m      3\u001b[0m \u001b[38;5;28;01mfor\u001b[39;00m pacote \u001b[38;5;129;01min\u001b[39;00m individuo:\n\u001b[0;32m----> 4\u001b[0m     tam \u001b[38;5;241m+\u001b[39m\u001b[38;5;241m=\u001b[39m \u001b[38;5;28msum\u001b[39m([x \u001b[38;5;28;01mfor\u001b[39;00m i, x \u001b[38;5;129;01min\u001b[39;00m \u001b[38;5;28menumerate\u001b[39m(S) \u001b[38;5;28;01mif\u001b[39;00m i \u001b[38;5;129;01min\u001b[39;00m pacote])\n\u001b[1;32m      5\u001b[0m \u001b[38;5;28;01mreturn\u001b[39;00m tam\n",
      "\u001b[0;31mKeyboardInterrupt\u001b[0m: "
     ]
    }
   ],
   "source": [
    "otimos = 0\n",
    "\n",
    "# Lê para todos\n",
    "with open('benchmark/binpack1.txt', 'r') as f:\n",
    "    qtd = int(f.readline())\n",
    "    for _ in range(qtd):\n",
    "        f.readline()  # problema\n",
    "\n",
    "        C, M, otimo = tuple(map(lambda x: int(x), f.readline().split()))\n",
    "\n",
    "        S = []  # pesos\n",
    "        for _ in range(M):\n",
    "            S.append(int(f.readline()))\n",
    "\n",
    "        individuo = list(range(0, M))\n",
    "\n",
    "        # Execução\n",
    "        _, melhor = main(T=50, G=500, M=individuo, C=C, S=S)\n",
    "        print(f'melhor:{melhor} - otimo:{otimo}')"
   ]
  }
 ],
 "metadata": {
  "kernelspec": {
   "display_name": "Python 3 (ipykernel)",
   "language": "python",
   "name": "python3"
  },
  "language_info": {
   "codemirror_mode": {
    "name": "ipython",
    "version": 3
   },
   "file_extension": ".py",
   "mimetype": "text/x-python",
   "name": "python",
   "nbconvert_exporter": "python",
   "pygments_lexer": "ipython3",
   "version": "3.11.8"
  }
 },
 "nbformat": 4,
 "nbformat_minor": 5
}
