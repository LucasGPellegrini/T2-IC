{
 "cells": [
  {
   "cell_type": "markdown",
   "id": "eaec9f69-7350-40cd-b0d3-067c10d4e941",
   "metadata": {},
   "source": [
    "# Trabalho de Algoritmos Genéticos"
   ]
  },
  {
   "cell_type": "markdown",
   "id": "6e6eeb27-22f6-4162-8d57-20ab7f9efcfb",
   "metadata": {},
   "source": [
    "## Problema Do Empacotamento (BPP do inglês *\"Bin Packing Problem\"*)"
   ]
  },
  {
   "cell_type": "markdown",
   "id": "a14e453a-80f3-4bea-9bbf-e0c725ebedc1",
   "metadata": {},
   "source": [
    "Dada uma quantidade inteira e positiva de pacotes/depósitos de capacidade $C$ e um set de $M$ itens  $I = [I_1, \\cdots, I_M]$ de tamanhos $S = [S_1,\\cdots,S_M]$, o problema consiste em empacotar todos os itens nos pacotes, de modo a não exceder a capacidade $C$, **minimizando** a quantidade $N$ de pacotes utilizados."
   ]
  },
  {
   "cell_type": "markdown",
   "id": "bacf205c-7c87-479c-8485-7570b79f1ee1",
   "metadata": {},
   "source": [
    "## Imports"
   ]
  },
  {
   "cell_type": "code",
   "execution_count": 1,
   "id": "18e71645-71bc-4c6e-9501-2a5f1ec9b6ff",
   "metadata": {},
   "outputs": [],
   "source": [
    "import numpy as np\n",
    "import pandas as pd\n",
    "import random\n",
    "from itertools import combinations\n",
    "import copy"
   ]
  },
  {
   "cell_type": "markdown",
   "id": "7f08f0ad-5f86-459f-8473-5536fe7fc884",
   "metadata": {},
   "source": [
    "## Modelando o Problema"
   ]
  },
  {
   "cell_type": "markdown",
   "id": "9d9ac514-0dc5-43e9-ae40-a97c1ceeca2e",
   "metadata": {},
   "source": [
    "- Gene: É um pacote.\n",
    "    - É representado por uma lista de tuplas (índice, tamanho);\n",
    "- Indivíduo: É um conjunto de pacotes, que somam um total de $M$ elementos, cujos respectivos tamanhos não infringem a capacidade $C$."
   ]
  },
  {
   "cell_type": "markdown",
   "id": "70e02d1d-611e-4ac9-866e-10d20ede487d",
   "metadata": {},
   "source": [
    "### *Fitness*"
   ]
  },
  {
   "cell_type": "markdown",
   "id": "0f4ed542-e21b-44c6-b133-322f46275c9c",
   "metadata": {},
   "source": [
    "$$\n",
    "\\begin{align}\n",
    "f_{BPP} = \\frac{\\sum^{N}_{i=1}(fill_i/C)^K}{N}\\\\\n",
    "\\end{align}\n",
    "$$\n",
    "\n",
    "$$\n",
    "\\begin{matrix*}\n",
    "    \\text{Seja:}\\left(\n",
    "    \\begin{matrix*}\n",
    "        \\textrm{\\textbf{N} o número de pacotes (bins),}\\\\\n",
    "        \\textrm{\\textbf{fill} a soma dos tamanhos dos itens no pacote \\textbf{i},}\\\\\n",
    "        \\textrm{\\textbf{C} a capacidade do pacote}\\\\\n",
    "        \\textrm{\\textbf{k} uma constante de elitismo, } k\\gt1\\\\\n",
    "    \\end{matrix*}\\right)\n",
    "\\end{matrix*}\n",
    "$$"
   ]
  },
  {
   "cell_type": "code",
   "execution_count": 2,
   "id": "f6d7f864-8bc3-46f4-802c-a5ca81be3d88",
   "metadata": {},
   "outputs": [],
   "source": [
    "def fill(pacote):\n",
    "    return sum(x[1] for x in pacote)\n",
    "\n",
    "def fitness(individuo, C, K=1.2):\n",
    "    soma = 0\n",
    "    for pacote in individuo:\n",
    "        soma += (fill(pacote)/C) ** K\n",
    "        \n",
    "    return soma/len(individuo)"
   ]
  },
  {
   "cell_type": "markdown",
   "id": "c351aefc-2254-4729-afc9-1467154a3a78",
   "metadata": {},
   "source": [
    "### Heurísticas"
   ]
  },
  {
   "cell_type": "code",
   "execution_count": 3,
   "id": "468303d7-d328-476b-9322-c00c8ef336ed",
   "metadata": {},
   "outputs": [],
   "source": [
    "def FF(individuo, item, C):\n",
    "\n",
    "    indv = copy.deepcopy(individuo)\n",
    "\n",
    "    if indv == []:\n",
    "        indv.append([item])\n",
    "        return indv\n",
    "\n",
    "    added = False\n",
    "    for pacote in indv:\n",
    "        if fill(pacote) + item[1] <= C:\n",
    "            pacote.append(item)\n",
    "            added = True\n",
    "            break\n",
    "\n",
    "    if not added:\n",
    "        indv.append([item])\n",
    "\n",
    "    return indv\n",
    "            \n",
    "\n",
    "def FFD(individuo, itens, C):\n",
    "    ordenados = sorted(itens, key=lambda x: x[1], reverse = True)\n",
    "    ind = copy.deepcopy(individuo)\n",
    "\n",
    "    for item in ordenados:\n",
    "        print(ind)\n",
    "        print(item)\n",
    "        ind = FF(ind, item, C)\n",
    "\n",
    "    return ind\n"
   ]
  },
  {
   "cell_type": "markdown",
   "id": "cd9aecdf-83da-4d3a-aebb-2848858a998a",
   "metadata": {},
   "source": [
    "### Cruzamento ou *crossover*"
   ]
  },
  {
   "cell_type": "code",
   "execution_count": 4,
   "id": "261a2512-0541-4c49-a66c-b49c965bd23e",
   "metadata": {},
   "outputs": [],
   "source": [
    "def cruzamento(pai1, pai2, C):\n",
    "    # Copia os pais\n",
    "    p1 = copy.deepcopy(pai1)\n",
    "    p2 = copy.deepcopy(pai2)\n",
    "\n",
    "    # Estabelece as zonas de corte nos pais\n",
    "    cortes1 = [0,0]\n",
    "    while cortes1[0] == cortes1[1]:\n",
    "        cortes1[0] = np.random.randint(len(p1))\n",
    "        cortes1[1] = np.random.randint(len(p2))\n",
    "    cortes2 = [0,0]\n",
    "    while cortes2[0] == cortes2[1]:\n",
    "        cortes2[0] = np.random.randint(len(p2))\n",
    "        cortes2[1] = np.random.randint(len(p2))\n",
    "\n",
    "    # Insere alternadamente os cortes\n",
    "    filho = []\n",
    "    filho += p1[0:cortes1[0]]\n",
    "    filho += p2[0:cortes2[0]]\n",
    "    filho += p1[cortes1[0]:cortes1[1]]\n",
    "    filho += p2[cortes2[0]:cortes2[1]]\n",
    "    filho += p1[cortes1[1]:]\n",
    "    filho += p2[cortes2[1]:]\n",
    "\n",
    "    # Remove duplicados e listas vazias\n",
    "    set_itens = set()\n",
    "    novo_filho = []\n",
    "    for i_pc, pacote in enumerate(copy.deepcopy(filho)):\n",
    "        novo_pacote = []\n",
    "        for item in pacote:\n",
    "            if item not in set_itens:\n",
    "                set_itens.add(item)\n",
    "                novo_pacote.append(item)\n",
    "        if novo_pacote != []:\n",
    "            novo_filho += [novo_pacote]\n",
    "    \n",
    "    filho = copy.deepcopy(novo_filho)      \n",
    "\n",
    "    # Insersão de items não-inseridos\n",
    "    itens_pais = []\n",
    "    for pacote_pai in copy.deepcopy(pai1):\n",
    "        itens_pais += pacote_pai\n",
    "    itens_pais = set(itens_pais)\n",
    "\n",
    "    itens_filhos = []\n",
    "    for pacote_filho in copy.deepcopy(filho):\n",
    "        itens_filhos += pacote_filho\n",
    "    itens_filhos = set(itens_filhos)\n",
    "\n",
    "    remanescentes = itens_pais - itens_filhos\n",
    "    remanescentes = list(remanescentes)\n",
    "\n",
    "    filho = FFD(filho, remanescentes, C)\n",
    "\n",
    "    return filho"
   ]
  },
  {
   "cell_type": "code",
   "execution_count": 5,
   "id": "fc8d6345-0dab-413b-a9d8-17d02f630118",
   "metadata": {},
   "outputs": [
    {
     "data": {
      "text/plain": [
       "[[(1, 2), (3, 4)], [(5, 6), (7, 8)], [(2, 1), (4, 2)], [(6, 3), (9, 9)]]"
      ]
     },
     "execution_count": 5,
     "metadata": {},
     "output_type": "execute_result"
    }
   ],
   "source": [
    "cruzamento([[(1,2), (3,4)], [(5,6), (7,8)], [(2,1), (4,2)], [(6,3), (9,9)]], [[(1,2), (3,4), (5,6)], [(7,8)], [(2,1), (6,3)], [(9,9), (4,2)]], 15)"
   ]
  },
  {
   "cell_type": "markdown",
   "id": "356d252f-f3db-480e-87bd-1712f7250e78",
   "metadata": {},
   "source": [
    "### Mutação"
   ]
  },
  {
   "cell_type": "code",
   "execution_count": 6,
   "id": "78e63bbd-ec24-470b-aee6-daffb733a24d",
   "metadata": {},
   "outputs": [],
   "source": [
    "def mutacao(pai, C, fator_mutacao=3):\n",
    "    p = copy.deepcopy(pai)\n",
    "    p_ord = sorted(p, key=lambda x: fill(x))\n",
    "    \n",
    "    filho = copy.deepcopy(pai)\n",
    "\n",
    "    removidos = []\n",
    "    for item in p_ord[0]:\n",
    "        removidos.append(item)\n",
    "        \n",
    "    filho.remove(p_ord[0])\n",
    "    \n",
    "    for i in range(1, fator_mutacao):\n",
    "        for item in filho.pop(np.random.randint(len(filho))):\n",
    "            removidos.append(item)\n",
    "            \n",
    "    np.random.shuffle(removidos)\n",
    "    for item in removidos:\n",
    "        filho = FF(filho, item, C)\n",
    "\n",
    "    return filho"
   ]
  },
  {
   "cell_type": "code",
   "execution_count": 7,
   "id": "b929793a-b972-4b2b-81c5-b7ff6998c292",
   "metadata": {},
   "outputs": [
    {
     "data": {
      "text/plain": [
       "[[(6, 3), (9, 9), (1, 2), (2, 1)], [(3, 4), (5, 6), (4, 2)], [(7, 8)]]"
      ]
     },
     "execution_count": 7,
     "metadata": {},
     "output_type": "execute_result"
    }
   ],
   "source": [
    "mutacao([[(1,2), (3,4)], [(5,6), (7,8)], [(2,1), (4,2)], [(6,3), (9,9)]], 15)"
   ]
  },
  {
   "cell_type": "markdown",
   "id": "fbeaca94-9c7b-4405-9bb7-5141ccacacef",
   "metadata": {},
   "source": [
    "## Execução"
   ]
  },
  {
   "cell_type": "code",
   "execution_count": 8,
   "id": "9c1a6026-cee9-4cd6-b812-9e679f4299d2",
   "metadata": {},
   "outputs": [],
   "source": [
    "def main(POPS=10, GERS=1000, \n",
    "         GENS=[(1,1), (2,2), (3,3), (4,4), (5,5), (6,6), (7,7), (8,8), (9,9), (10,10), (11,11), (12,12), (13,13), (14,14), (15,15)], \n",
    "         C=35, PC=0.3, PM=0.15, K=1.2):\n",
    "    \n",
    "    populacao = []\n",
    "    \n",
    "    for _ in range(POPS):\n",
    "        individuo = []\n",
    "        itens = copy.deepcopy(GENS)\n",
    "        np.random.shuffle(itens)\n",
    "        for item in itens:\n",
    "            individuo = FF(individuo, item, C)\n",
    "            \n",
    "        populacao.append(individuo)\n",
    "        \n",
    "    for i in range(0, GERS):\n",
    "        for indice, indv in enumerate(populacao):\n",
    "            #Cruzamento\n",
    "            if np.random.rand() < PC:\n",
    "                i_cruz = indice\n",
    "                while i_cruz == indice:\n",
    "                    i_cruz = np.random.randint(POPS)\n",
    "                populacao.append(cruzamento(indv, populacao[i_cruz], C))\n",
    "                \n",
    "            #Mutacao\n",
    "            if np.random.rand() < PM:\n",
    "                i_cruz = indice\n",
    "                while i_cruz == indice:\n",
    "                    i_cruz = np.random.randint(POPS)\n",
    "                populacao.append(cruzamento(indv, populacao[i_cruz], C))\n",
    "\n",
    "        populacao = sorted(populacao, key = lambda ind: fitness(ind, C, K), reverse=True)[:POPS]\n",
    "        \n",
    "    return (len(populacao[0]), fitness(populacao[0], C, K))"
   ]
  },
  {
   "cell_type": "code",
   "execution_count": 9,
   "id": "a167f96f-b597-4ee1-bbd5-9ff43257c772",
   "metadata": {},
   "outputs": [
    {
     "data": {
      "text/plain": [
       "(4, 0.8412648454575722)"
      ]
     },
     "execution_count": 9,
     "metadata": {},
     "output_type": "execute_result"
    }
   ],
   "source": [
    "main(GERS=1000, K=1.15)"
   ]
  },
  {
   "cell_type": "markdown",
   "id": "b4dd6fd6-9a2c-415b-bcb9-a20c5440cd66",
   "metadata": {},
   "source": [
    "## Benchmark"
   ]
  },
  {
   "cell_type": "code",
   "execution_count": 12,
   "id": "4f3e679b-7b50-4187-a630-5eb996608b2f",
   "metadata": {},
   "outputs": [
    {
     "name": "stdout",
     "output_type": "stream",
     "text": [
      "melhor:50 - otimo:48\n"
     ]
    },
    {
     "ename": "AttributeError",
     "evalue": "'float' object has no attribute 'readline'",
     "output_type": "error",
     "traceback": [
      "\u001b[0;31m---------------------------------------------------------------------------\u001b[0m",
      "\u001b[0;31mAttributeError\u001b[0m                            Traceback (most recent call last)",
      "Cell \u001b[0;32mIn[12], line 8\u001b[0m\n\u001b[1;32m      6\u001b[0m \u001b[38;5;28;01mfor\u001b[39;00m _ \u001b[38;5;129;01min\u001b[39;00m \u001b[38;5;28mrange\u001b[39m(qtd):\n\u001b[1;32m      7\u001b[0m     i \u001b[38;5;241m=\u001b[39m \u001b[38;5;241m1\u001b[39m\n\u001b[0;32m----> 8\u001b[0m     \u001b[43mf\u001b[49m\u001b[38;5;241;43m.\u001b[39;49m\u001b[43mreadline\u001b[49m()  \u001b[38;5;66;03m# problema\u001b[39;00m\n\u001b[1;32m     10\u001b[0m     capacidade, M, otimo \u001b[38;5;241m=\u001b[39m \u001b[38;5;28mtuple\u001b[39m(\u001b[38;5;28mmap\u001b[39m(\u001b[38;5;28;01mlambda\u001b[39;00m x: \u001b[38;5;28mint\u001b[39m(x), f\u001b[38;5;241m.\u001b[39mreadline()\u001b[38;5;241m.\u001b[39msplit()))\n\u001b[1;32m     12\u001b[0m     genes \u001b[38;5;241m=\u001b[39m []\n",
      "\u001b[0;31mAttributeError\u001b[0m: 'float' object has no attribute 'readline'"
     ]
    }
   ],
   "source": [
    "otimos = 0\n",
    "\n",
    "# Lê para todos\n",
    "with open('benchmark/binpack1.txt', 'r') as f:\n",
    "    qtd = int(f.readline())\n",
    "    for _ in range(qtd):\n",
    "        f.readline()  # problema\n",
    "\n",
    "        capacidade, M, otimo = tuple(map(lambda x: int(x), f.readline().split()))\n",
    "\n",
    "        genes = []\n",
    "        item_indice\n",
    "        for _ in range(M):\n",
    "            genes.append((item_indice, int(f.readline())))\n",
    "            item_indice += 1\n",
    "\n",
    "        # Execução\n",
    "        tam, f = main(POPS=50, \n",
    "                      GERS=500, \n",
    "                      GENS=genes, \n",
    "                      C=capacidade, \n",
    "                      PC=0.3,\n",
    "                      PM=0.15,\n",
    "                      K=1.2)\n",
    "        print(f'melhor:{tam} - otimo:{otimo}')"
   ]
  },
  {
   "cell_type": "code",
   "execution_count": null,
   "id": "67f5376b-5d94-4633-bcef-e6b62fba41ef",
   "metadata": {},
   "outputs": [],
   "source": []
  }
 ],
 "metadata": {
  "kernelspec": {
   "display_name": "Python 3 (ipykernel)",
   "language": "python",
   "name": "python3"
  },
  "language_info": {
   "codemirror_mode": {
    "name": "ipython",
    "version": 3
   },
   "file_extension": ".py",
   "mimetype": "text/x-python",
   "name": "python",
   "nbconvert_exporter": "python",
   "pygments_lexer": "ipython3",
   "version": "3.11.8"
  }
 },
 "nbformat": 4,
 "nbformat_minor": 5
}
