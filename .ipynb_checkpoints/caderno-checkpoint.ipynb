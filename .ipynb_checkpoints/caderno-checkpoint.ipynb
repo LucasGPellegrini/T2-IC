{
 "cells": [
  {
   "cell_type": "markdown",
   "id": "56e95f5b-7407-4143-9321-9edbfe9958fe",
   "metadata": {},
   "source": [
    "# Trabalho de Algoritmos Genéticos"
   ]
  },
  {
   "cell_type": "markdown",
   "id": "67c5edbf-39d2-41f0-981a-83a1b72e67b3",
   "metadata": {},
   "source": [
    "## Imports"
   ]
  },
  {
   "cell_type": "code",
   "execution_count": 2,
   "id": "18e71645-71bc-4c6e-9501-2a5f1ec9b6ff",
   "metadata": {},
   "outputs": [
    {
     "name": "stderr",
     "output_type": "stream",
     "text": [
      "2024-02-24 17:33:32.272645: I tensorflow/core/platform/cpu_feature_guard.cc:182] This TensorFlow binary is optimized to use available CPU instructions in performance-critical operations.\n",
      "To enable the following instructions: SSE3 SSE4.1 SSE4.2 AVX AVX2 AVX512F AVX512_VNNI FMA, in other operations, rebuild TensorFlow with the appropriate compiler flags.\n"
     ]
    }
   ],
   "source": [
    "import pygad\n",
    "import tensorflow.keras\n",
    "\n",
    "\n",
    "import numpy\n",
    "import pandas"
   ]
  },
  {
   "cell_type": "markdown",
   "id": "ad8fe862-c262-4723-bfe0-759a1262f0fa",
   "metadata": {},
   "source": [
    "## Dataset"
   ]
  }
 ],
 "metadata": {
  "kernelspec": {
   "display_name": "Python 3 (ipykernel)",
   "language": "python",
   "name": "python3"
  },
  "language_info": {
   "codemirror_mode": {
    "name": "ipython",
    "version": 3
   },
   "file_extension": ".py",
   "mimetype": "text/x-python",
   "name": "python",
   "nbconvert_exporter": "python",
   "pygments_lexer": "ipython3",
   "version": "3.11.7"
  }
 },
 "nbformat": 4,
 "nbformat_minor": 5
}
