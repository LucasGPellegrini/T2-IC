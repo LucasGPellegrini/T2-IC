{
 "cells": [
  {
   "cell_type": "markdown",
   "id": "56e95f5b-7407-4143-9321-9edbfe9958fe",
   "metadata": {},
   "source": [
    "# Trabalho de Algoritmos Genéticos"
   ]
  },
  {
   "cell_type": "markdown",
   "id": "6d2a52c3-8e3b-4c3d-a2a6-e2ade35e4b3b",
   "metadata": {},
   "source": [
    "## Problema Do Empacotamento (BPP do inglês *\"Bin Packing Problem\"*)"
   ]
  },
  {
   "cell_type": "markdown",
   "id": "3cd20ae4-6629-4e36-a9d5-1951670d6b37",
   "metadata": {},
   "source": [
    "Dada uma quantidade inteira e positiva de pacotes/depósitos de capacidade $C$ e um set de $M$ itens  $I = [I_1, \\cdots, I_M]$ de tamanhos $S = [S_1,\\cdots,S_M]$, o problema consiste em empacotar todos os itens nos pacotes, de modo a não exceder a capacidade $C$, **minimizando** a quantidade $N$ de pacotes utilizados."
   ]
  },
  {
   "cell_type": "markdown",
   "id": "67c5edbf-39d2-41f0-981a-83a1b72e67b3",
   "metadata": {},
   "source": [
    "## Imports"
   ]
  },
  {
   "cell_type": "code",
   "execution_count": 1,
   "id": "18e71645-71bc-4c6e-9501-2a5f1ec9b6ff",
   "metadata": {},
   "outputs": [],
   "source": [
    "import os\n",
    "os.environ['TF_CPP_MIN_LOG_LEVEL'] = '1' \n",
    "\n",
    "import pygad\n",
    "import tensorflow.keras\n",
    "\n",
    "import numpy as np\n",
    "import pandas as pd\n",
    "from itertools import combinations"
   ]
  },
  {
   "cell_type": "markdown",
   "id": "ad8fe862-c262-4723-bfe0-759a1262f0fa",
   "metadata": {},
   "source": [
    "## Modelando o Problema"
   ]
  },
  {
   "cell_type": "markdown",
   "id": "62c81777-0018-4930-87d3-21a92c7bed25",
   "metadata": {},
   "source": [
    "- Gene: É um pacote.\n",
    "    - É representado por um set de inteiros referentes à cada cada item;\n",
    "- Indivíduo: É um conjunto de pacotes, que somam um total de $M$ elementos, cujos respectivos pesos não infringem a capacidade $C$."
   ]
  },
  {
   "cell_type": "code",
   "execution_count": 2,
   "id": "f6d7f864-8bc3-46f4-802c-a5ca81be3d88",
   "metadata": {},
   "outputs": [],
   "source": [
    "def f(individuo):\n",
    "    return len(individuo)"
   ]
  },
  {
   "cell_type": "code",
   "execution_count": 31,
   "id": "468303d7-d328-476b-9322-c00c8ef336ed",
   "metadata": {},
   "outputs": [],
   "source": [
    "def FF(individuo, item, C, S):\n",
    "\n",
    "    if individuo == []:\n",
    "        individuo.append([item])\n",
    "        return\n",
    "\n",
    "    added = False\n",
    "    for pacote in individuo:\n",
    "        if sum([x for i, x in enumerate(S) if i in pacote]) + S[item] <= C:\n",
    "            pacote.append(item)\n",
    "            pacote.sort()\n",
    "            added = True\n",
    "            break\n",
    "\n",
    "    if not added:\n",
    "        individuo.append([item])\n",
    "            \n",
    "\n",
    "def FFD(individuo, itens, C, S):\n",
    "    ordenados = [x[0] for x in sorted(\n",
    "        [(itens[i], S[i]) for i in range(0, len(S))], \n",
    "        key = lambda x: x[1],\n",
    "        reverse=True)]\n",
    "    \n",
    "    for item in ordenados:\n",
    "        FF(individuo, item, C, S)\n",
    "\n",
    "\n",
    "def MBS(individuo, item, C, S):\n",
    "\n",
    "    if individuo == []:\n",
    "        individuo.append([item])\n",
    "        return\n",
    "\n",
    "    added = False\n",
    "    melhor_diferenca = C\n",
    "    indice_melhor = 0\n",
    "    for I, pacote in enumerate(individuo):\n",
    "        diferenca = C - (sum([x for i, x in enumerate(S) if i in pacote]) + S[item])\n",
    "        if diferenca < melhor_diferenca and diferenca >= 0:\n",
    "            melhor_diferenca = diferenca\n",
    "            indice_melhor = I\n",
    "            added = True\n",
    "\n",
    "    if added:\n",
    "        individuo[indice_melhor].append(item)\n",
    "        individuo[indice_melhor].sort()\n",
    "    else:\n",
    "        individuo.append([item])\n",
    "\n",
    "def FleszarMBS(individuo, itens, C, S):\n",
    "    ordenados = [x[0] for x in sorted(\n",
    "        [(itens[i], S[i]) for i in range(0, len(S))], \n",
    "        key = lambda x: x[1],\n",
    "        reverse=True)]\n",
    "    for it in ordenados:\n",
    "        MBS(individuo, it, C, S)"
   ]
  },
  {
   "cell_type": "code",
   "execution_count": null,
   "id": "7335c73d-3f98-4622-99c1-f36c6be02ae5",
   "metadata": {},
   "outputs": [],
   "source": [
    "def add(pacote, item, C, S):\n",
    "    if (sum([x for i, x in enumerate(S) if i in pacote]) + S[item]) <= C:\n",
    "        pacote.append(item)"
   ]
  },
  {
   "cell_type": "code",
   "execution_count": 35,
   "id": "8b2615c9-e3f3-4bf4-95e7-c523abed15bc",
   "metadata": {},
   "outputs": [],
   "source": [
    "def substituicao(individuo, Ta, Tb):\n",
    "    Tc = [list(x) for x in combinations(Ta, 2)]\n",
    "\n",
    "    S_vec = []\n",
    "    for pacote in individuo:\n",
    "        Sv = []\n",
    "        Sv += [list(x) for x in combinations(pacote, 1)]\n",
    "        Sv += [list(x) for x in combinations(pacote, 2)]\n",
    "        Sv += [list(x) for x in combinations(pacote, 3)]\n",
    "\n",
    "        S_vec.append(Sv)\n",
    "\n",
    "    f_ind = f(individuo)\n",
    "    lista_candidatos = []\n",
    "    for candidato in S_vec:\n",
    "        nTa = Ta.copy()\n",
    "        nTa = [x for x in nTa if x not in candidato]\n",
    "        for pct in individuo:\n",
    "            nInd = individuo.copy()\n",
    "            nInd.remove(pct)\n",
    "\n",
    "            nInd.append(candidato)\n",
    "            for item in pct:\n",
    "                nTa.append(item)\n",
    "\n",
    "            f_new = f(nInd)\n",
    "            if f_new < f_ind:\n",
    "                lista_candidatos.append(tuple(f_new, nTa, Tb.copy(), nInd))\n",
    "\n",
    "\n",
    "    for candidato in Tb:\n",
    "        nTb = Tb.copy()\n",
    "        nTb.remove(candidato)\n",
    "        nTa = Ta.copy()\n",
    "        for pct in individuo:\n",
    "            nInd = individuo.copy()\n",
    "            nInd.remove(pct)\n",
    "\n",
    "            nInd.append(candidato)\n",
    "            for item in pct:\n",
    "                nTa.append(item)\n",
    "\n",
    "            f_new = f(nInd)\n",
    "            if f_new < f_ind:\n",
    "                lista_candidatos.append(tuple(f_new, nTa, nTb, nInd))\n",
    "    \n",
    "    melhor_candidato = min(lista_candidatos, key = lambda x: x[0])\n",
    "    \n",
    "        # TODO: PROCEDIMENTO EM DUAS ETAPAS COM O MELHOR CANDIDATO:\n",
    "        #       Para Tb: tentar inserir o set INTEIRO usando FF (não criar novo set)\n",
    "        #                Se nao der certo: inserir cada elemento com MBS\n",
    "        #       Para Ta: FF\n",
    "        \n",
    "                \n",
    "        \n",
    "        \n",
    "\n",
    "def cruzamento(pai1, pai2, C):\n",
    "    idx1 = [1,3] # rand 2 de cima\n",
    "    idx2 = [3]   # rand 1 de baixo mas sem elementos de pai1[indices1]\n",
    "\n",
    "    offset = []\n",
    "    offset += [pacote for indice, pacote in enumerate(pai1) if indice in idx1]\n",
    "    offset += [pacote for indice, pacote in enumerate(pai2) if indice in idx2]\n",
    "    \n",
    "    Ta = []\n",
    "    Tb = []\n",
    "\n",
    "    # pacotes remanescentes em pai2\n",
    "    for pacote in [pct for indice, pct in enumerate(pai2) if indice not in idx2]:\n",
    "        novo_pacote = []\n",
    "        for item in pacote:\n",
    "            if not any(item in o_pct for o_pct in offset):\n",
    "                novo_pacote.append(item)\n",
    "\n",
    "        if len(novo_pacote) > 1:\n",
    "            Tb.append(novo_pacote)\n",
    "        elif len(novo_pacote) == 1:\n",
    "            Ta.append(novo_pacote[0])\n",
    "    \n",
    "\n",
    "\n",
    "\n",
    "\n",
    "    \n",
    "\n",
    "    return offset, crossover(pai2, pai1, C)"
   ]
  },
  {
   "cell_type": "code",
   "execution_count": 32,
   "id": "6cb155a6-f3df-43c7-931e-39ec0b6a0718",
   "metadata": {},
   "outputs": [],
   "source": [
    "p1 = [[1,3,10],[2,9,11],[5,7,13,15],[4,6,14],[8,12]]\n",
    "p2 = [[3,4,12],[6,7,11],[9,10],[1,5,8],[2,13,14]]"
   ]
  },
  {
   "cell_type": "code",
   "execution_count": null,
   "id": "902691bb-6dad-441e-a8e7-98894dab76f2",
   "metadata": {},
   "outputs": [],
   "source": []
  },
  {
   "cell_type": "code",
   "execution_count": null,
   "id": "c2b13878-f34b-4d76-9a81-772f9da0ca99",
   "metadata": {},
   "outputs": [],
   "source": []
  }
 ],
 "metadata": {
  "kernelspec": {
   "display_name": "Python 3 (ipykernel)",
   "language": "python",
   "name": "python3"
  },
  "language_info": {
   "codemirror_mode": {
    "name": "ipython",
    "version": 3
   },
   "file_extension": ".py",
   "mimetype": "text/x-python",
   "name": "python",
   "nbconvert_exporter": "python",
   "pygments_lexer": "ipython3",
   "version": "3.11.7"
  }
 },
 "nbformat": 4,
 "nbformat_minor": 5
}
